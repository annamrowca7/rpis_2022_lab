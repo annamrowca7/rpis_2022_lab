{
 "cells": [
  {
   "cell_type": "markdown",
   "id": "2d4368b2",
   "metadata": {},
   "source": [
    "# RPiS - Laboratoria #2\n",
    "Pakiet [scipy.stats](https://docs.scipy.org/doc/scipy/reference/stats.html)."
   ]
  },
  {
   "cell_type": "code",
   "execution_count": null,
   "id": "a9a703f3",
   "metadata": {},
   "outputs": [],
   "source": [
    "# importy i kosmetyka\n",
    "import numpy as np\n",
    "import matplotlib.pyplot as plt\n",
    "plt.rcParams['axes.grid'] = True  \n",
    "plt.rcParams['figure.dpi'] = 100"
   ]
  },
  {
   "cell_type": "markdown",
   "id": "81a40234",
   "metadata": {},
   "source": [
    "### Pakiet scipy.stats\n",
    "Przykład samplowania z rozkładu jednostajnego."
   ]
  },
  {
   "cell_type": "code",
   "execution_count": null,
   "id": "b0f27748",
   "metadata": {},
   "outputs": [],
   "source": [
    "from scipy.stats import uniform\n",
    "\n",
    "# RVS: random variates (próbki losowe) - najczesciej analogiczna składnia do numpy\n",
    "uniform.rvs(0, 1, 10)"
   ]
  },
  {
   "cell_type": "markdown",
   "id": "2378e9cf",
   "metadata": {},
   "source": [
    "Każdy z rozkładów implementuje szereg różnych metod, często nazwy argumentów tych metod są takie same dla różnych rozkładów (stąd przy samplowaniu z rozkładu `uniform` nazwy parametrów to `loc` i `scale`, zamiast np. `low` i `high`)."
   ]
  },
  {
   "cell_type": "code",
   "execution_count": null,
   "id": "435f782a",
   "metadata": {},
   "outputs": [],
   "source": [
    "from scipy.stats import norm\n",
    "\n",
    "# rozkład jednostajny\n",
    "uni_sample = uniform.rvs(loc=0, scale=1, size=10)\n",
    "\n",
    "# rozkład normalny\n",
    "normal_sample = norm.rvs(loc=0, scale=1, size=10)"
   ]
  },
  {
   "cell_type": "markdown",
   "id": "cb5d561d",
   "metadata": {},
   "source": [
    "Każdej z tych klas możemy używać na dwa sposoby:\n",
    "1. Jak wyżej, podając do każdej metody parametry rozkładu.\n",
    "2. \"Zamrażając\" rozkład i używając metod bez podania parametrów rozkładu za każdym razem."
   ]
  },
  {
   "cell_type": "code",
   "execution_count": null,
   "id": "e9f2de16",
   "metadata": {},
   "outputs": [],
   "source": [
    "# zamrożony rozkład\n",
    "dist = norm(loc=-2, scale=1)\n",
    "# samplowanie z rozkładu\n",
    "dist.rvs(size=3)"
   ]
  },
  {
   "cell_type": "markdown",
   "id": "2665e0f4",
   "metadata": {},
   "source": [
    "Klasy te mają zaimplementowane wiele przydatnych metod, tutaj przykład kilku z nich na podstawie rozkładu jednostajnego. Po pełną listę odsyłam do [dokumentacji](https://docs.scipy.org/doc/scipy/reference/generated/scipy.stats.uniform.html#scipy.stats.uniform), konkretnie sekcji Methods."
   ]
  },
  {
   "cell_type": "code",
   "execution_count": null,
   "id": "1d5ac8d0",
   "metadata": {},
   "outputs": [],
   "source": [
    "# zamrożony rozkład jednostajny\n",
    "dist = uniform(loc=0, scale=7)\n",
    "\n",
    "# średnia\n",
    "mu = dist.mean()\n",
    "\n",
    "# STD: standard deviation \n",
    "std = dist.std()\n",
    "\n",
    "# VAR: wariancja\n",
    "var = dist.var()\n",
    "\n",
    "# PDF: probability density function - funkcja gęstości \n",
    "x = 4.2\n",
    "px = dist.pdf(x)\n",
    "\n",
    "# CDF: cumulative distribution function - dystrybuanta\n",
    "fx = dist.cdf(x)"
   ]
  },
  {
   "cell_type": "markdown",
   "id": "69c52bc7",
   "metadata": {},
   "source": [
    "### Zadanie 1. Wizualizacje funkcji gęstości i dystrybuanty.\n",
    "Proszę za pomocą pakietu `matplotlib` narysować funkcję gęstości i dystrybuanty dla poniższych rozkładów:\n",
    "1. Rozkład normalny $\\mathcal{N}(0, 1)$\n",
    "2. Rozkład wykładniczy z $\\lambda = 0.5$ (po interpretacje parametrów `loc` i `scale` odsyłam do dokumentacji [`stats.expon`](https://docs.scipy.org/doc/scipy/reference/generated/scipy.stats.expon.html#scipy.stats.expon))\n",
    "3. Rozkład dwumianowy z $n = 9$ i $p = 0.3$ ([`stats.binom`](https://docs.scipy.org/doc/scipy/reference/generated/scipy.stats.binom.html#scipy.stats.binom))\n",
    "4. Rozkład Poissona z $\\lambda = 4$ \n",
    "\n",
    "W każdym podpunkcie proszę odpowiednio dobrać \"dziedzinę\". Proszę wspierać się dokumentacją w razie problemów, dla przykładu: czy rozkłady dyskretne mają funkcje gęstości? "
   ]
  },
  {
   "cell_type": "code",
   "execution_count": null,
   "id": "9378faca",
   "metadata": {},
   "outputs": [],
   "source": [
    "# rozkład normalny, N(0,1)"
   ]
  },
  {
   "cell_type": "code",
   "execution_count": null,
   "id": "cc64665b",
   "metadata": {},
   "outputs": [],
   "source": [
    "# rozkład wykładniczy, lambda = 0.5"
   ]
  },
  {
   "cell_type": "code",
   "execution_count": null,
   "id": "64ee2093",
   "metadata": {},
   "outputs": [],
   "source": [
    "# rozkład dwumianowy n = 9, p = 0.3"
   ]
  },
  {
   "cell_type": "code",
   "execution_count": null,
   "id": "401a700a",
   "metadata": {},
   "outputs": [],
   "source": [
    "# rozkład Poissona, lambda = 4"
   ]
  },
  {
   "cell_type": "markdown",
   "id": "a06867b2",
   "metadata": {},
   "source": [
    "### Zadanie 2. Porównanie próbki i funkcji gęstości.\n",
    "1. Dla rozkładów normalnego $N(0, 2)$ i wykładniczego z $\\lambda = 0.7$ wylosować wiele próbek i \"wyestymować\" ich rozkład za pomocą histogramu. Nałożyć na ten histogram faktyczny wykres funkcji gęstości. \n",
    "\n",
    "    *Hint*: potrzebny będzie jeden z argumentów funkcji `hist`.\n",
    "\n",
    "\n",
    "2. Zwizualizować \"błąd przybliżenia\" estymowanej funkcji gęstości, tzn. dla zadanej liczby przedziałów (np. 30) obliczyć średni błąd kwadratowy wyestymowane,j za pomocą histogramu gęstości, od faktycznej gęstości. Narysować wykres zależności tego błędu od liczby wylosowanych sampli z rozkładu.\n",
    "\n",
    "    *Hint*: dla lepszej wizualizacji warto użyć skali logarytmicznej."
   ]
  },
  {
   "cell_type": "code",
   "execution_count": null,
   "id": "e9109b0a",
   "metadata": {},
   "outputs": [],
   "source": [
    "# histogram vs funkcja gęstości"
   ]
  },
  {
   "cell_type": "code",
   "execution_count": null,
   "id": "0d12cea5",
   "metadata": {},
   "outputs": [],
   "source": [
    "# błąd przybliżenia"
   ]
  }
 ],
 "metadata": {
  "kernelspec": {
   "display_name": "Python [conda env:cl]",
   "language": "python",
   "name": "conda-env-cl-py"
  },
  "language_info": {
   "codemirror_mode": {
    "name": "ipython",
    "version": 3
   },
   "file_extension": ".py",
   "mimetype": "text/x-python",
   "name": "python",
   "nbconvert_exporter": "python",
   "pygments_lexer": "ipython3",
   "version": "3.9.7"
  }
 },
 "nbformat": 4,
 "nbformat_minor": 5
}
